{
 "cells": [
  {
   "cell_type": "markdown",
   "metadata": {},
   "source": [
    "# Assignment II : Multli-layer Feed Forward Neural Network"
   ]
  },
  {
   "cell_type": "markdown",
   "metadata": {},
   "source": [
    "Mohana Palaka\n",
    "\n",
    "I.Mtech\n",
    "\n",
    "15MCME01"
   ]
  },
  {
   "cell_type": "code",
   "execution_count": 53,
   "metadata": {
    "scrolled": true
   },
   "outputs": [],
   "source": [
    "import numpy as np\n",
    "import math\n",
    "import random\n",
    "from mnist import MNIST\n",
    "from sklearn.preprocessing import normalize"
   ]
  },
  {
   "cell_type": "code",
   "execution_count": 54,
   "metadata": {},
   "outputs": [],
   "source": [
    "mndata = MNIST('./data') #Path for where the training and test data are\n",
    "\n",
    "train_img, train_lbl = mndata.load_training() #Loading the training data\n",
    "test_img, test_lbl = mndata.load_testing() #Loading the test data\n",
    "\n",
    "#index = random.randrange(0, len(train_img))  \n",
    "#print(mndata.display(train_img[0]))\n",
    "#print(train_lbl[0])"
   ]
  },
  {
   "cell_type": "markdown",
   "metadata": {},
   "source": [
    "The Multi-Layer Feed Forward Network Class :"
   ]
  },
  {
   "cell_type": "code",
   "execution_count": 98,
   "metadata": {
    "scrolled": true
   },
   "outputs": [],
   "source": [
    "class Net :\n",
    "    \n",
    "    def __init__(self) :\n",
    "        \n",
    "        self.h = 20       #initializing the number of hidden units (chosen arbitrarily)\n",
    "        self.inp = 28*28  #Initializing the number of input nodes (Each input image is 28x28 and each pixel will be taken as an input)\n",
    "        self.out = 10     #Initializing the number of output nodes\n",
    "        \n",
    "        self.i2h_weights = 1/28;   #we initialize the weight vector btw [-1/28,1/28]\n",
    "        self.h2o_weights = 1/math.sqrt(self.h);   #we initialize the weight vector btw [+/-1/sqrt(h)]\n",
    "\n",
    "        \n",
    "        self.V = np.ones((self.inp, self.h))    #V, which will be our input matrix from input to hidden layer (the +1 is the bias)\n",
    "        #self.W = np.ones((h+1, out))    #W, whcih will be our input matrix from hidden to output layer (the +1 is the bias)\n",
    "        \n",
    "        self.i_to_h_weights = 2*self.i2h_weights * np.random.random((self.h, self.inp)) - self.i2h_weights   #weights from input to hidden layer\n",
    "        self.h_to_o_weights = 2*self.h2o_weights * np.random.random((self.out, self.h)) - self.h2o_weights    #Weights form hidden to output layer\n",
    "         \n",
    "        mndata = MNIST('./data') #Path for where the training and test data are\n",
    "\n",
    "        self.train_img, self.train_lbl = mndata.load_training()  #Loading the training data (images and labels/correct outputs)\n",
    "        self.test_img, self.test_lbl = mndata.load_testing()     #Loading the test data (images and labels/correct outputs)\n",
    "        self.yd = np.zeros((10, 1))\n",
    "        \n",
    "        self.eta = 0.5     #Initializing the learning rate\n",
    "        self.p_max = 60000\n",
    "        self.err_max = 10\n",
    "        \n",
    "    \n",
    "    def feed_forward(self, inputs, weights):  #feed-forward; sending the inputs from left to right and computing the outputs with no feedback\n",
    "        \n",
    "        z = weights.transpose() @ inputs  #weighted sum of the layer\n",
    "        y = sig_fn(z)   #inputting the weighted sum into the sigmoid function\n",
    "\n",
    "        return(y)\n",
    "    \n",
    "    \n",
    "    def mse(self, n, y, yd):  #mean squared error\n",
    "        \n",
    "        err = 0\n",
    "        \n",
    "        for i in range(n):\n",
    "                \n",
    "                err = err + (1/2) * (y[i] - yd[i])**2\n",
    "                \n",
    "        err = err/n\n",
    "        \n",
    "        return(err)\n",
    "        \n",
    "        \n",
    "    def batch_update(self):   #takes an array of all the inputs, and all their corresponding labels\n",
    "        \n",
    "        ep = 0 #Initializing the epoch increment variable\n",
    "        err = 0\n",
    "        \n",
    "        while (err < self.err_max):\n",
    "            \n",
    "            ep = ep + 1  #Incrementing the number of epochs that the model has seen\n",
    "            p = 0      #Pattern increment variable initialization \n",
    "            del_w = 0  #Initialization of change in weight vector from hidden to output layer\n",
    "            del_v = 0  #Initialization of change in weight vector from input to hidden layer\n",
    "            \n",
    "            while (p <= self.p_max):\n",
    "                \n",
    "                curr_input = np.row_stack(train_img[p])   #converting the current training sample image, (which is a list) into a column matrix\n",
    "                curr_input = curr_input/255     #scaling the inputs down to [0,1]\n",
    "                \n",
    "                yd = np.zeros((10, 1))   #initializing the correct output vector to zeros\n",
    "                lbl = self.train_lbl[p]   #finding the correct output label of the current input vector\n",
    "                yd[lbl] = 1  #assigning '1' to the output node corresponding to the correct label\n",
    "                \n",
    "                y_int = np.zeros((20, 1)) #initializing the intermediate output (output of hidden layer)\n",
    "                y_output = np.zeros((10, 1))  #initializing the final outputs\n",
    "                \n",
    "                for i in range(self.h):  #Calculating all the hidden layer outputs (i took 20 hidden nodes)\n",
    "                    \n",
    "                    weights = np.row_stack(self.i_to_h_weights[i, :])   #the weights of the current inputs, to the i-th hidden node \n",
    "                    y_int[i][0] = self.feed_forward(curr_input, weights) #calculating the output of the hidden layer at the ith hidden node and storing it in a column matrix 'y intermediate'\n",
    "                    #print(\"hidden y:\", y_int[i, 0])\n",
    "                    \n",
    "                for i in range(self.out):  #calculating all the output layer outputs with the calculated hidden layer outputs(y intermediate)\n",
    "                    \n",
    "                    weights = np.row_stack(self.h_to_o_weights[i, :])  #weights of input to i-th output node\n",
    "                    y_output[i] = self.feed_forward(y_int, weights)  #final output of the i-th output node\n",
    "                \n",
    "                pat_err = self.mse(self.out, y_output, yd)  #error of the current pattern\n",
    "                \n",
    "                #gradient desecent weight updation/back-propogation for hidden-to-input weights :\n",
    "                for i in range(self.out):\n",
    "                    \n",
    "                    s = (y_output[i] - yd[i]) * y_output[i] * (1 - y_output[i])  #sensitivity for hidden to output weight updation\n",
    "                    \n",
    "                    for j in range(self.h):\n",
    "                        \n",
    "                        delw_h2o = (-self.eta) * s * y_int[j][0]  #delta rule\n",
    "                        self.h_to_o_weights[i, j] = self.h_to_o_weights[i, j] + delw_h2o  #weight updation\n",
    "                \n",
    "                #gradient descent weight updation/back-propogation for input-to-hidden weights :\n",
    "                for i in range(self.h):\n",
    "                    \n",
    "                    e = 0\n",
    "                    \n",
    "                    for j in range(self.out):\n",
    "                        e = e + (y_output[j] - yd[j]) * y_output[j] * (1 - y_output[j]) * self.h_to_o_weights[j, i]  #summation of \n",
    "                        \n",
    "                    s = e * y_int[i][0] * (1- y_int[i][0])  #sensitivity of input to hidden weights\n",
    "                    #print(s)\n",
    "                    for k in range(self.inp):\n",
    "                        \n",
    "                        delw_i2h = (-self.eta) * s * curr_input[k][0]  #delta rule\n",
    "                        self.i_to_h_weights[i, k] = self.i_to_h_weights[i, k] + delw_i2h  #weight updation\n",
    "                \n",
    "                #print(\"i to h weights :\", self.i_to_h_weights)\n",
    "                #print(\"h to o weights :\", self.h_to_o_weights)\n",
    "                #print(\"Y :\", y_output)\n",
    "                #print(\"Yd :\", yd)\n",
    "                print(\"pattern err:\", pat_err)\n",
    "                err = err + pat_err  #error across all patterns\n",
    "                p = p + 1  #incrementing the number of patterns that that the model has seen \n",
    "                \n",
    "        \n",
    "        print(\"err:\",err)\n",
    "        \n",
    "        \n",
    "    def test_sample(self, test):\n",
    "        \n",
    "        test = test/255 #normalizing input image\n",
    "        \n",
    "        yi = np.zeros((20, 1))\n",
    "        yf = np.zeros((10, 1))\n",
    "\n",
    "        for i in range(self.h):\n",
    "        \n",
    "            weights = np.row_stack(self.i_to_h_weights[i, :])\n",
    "            yi[i, 0] = self.feed_forward(test, weights)\n",
    "        \n",
    "        for i in range(self.out):\n",
    "        \n",
    "            weights = np.row_stack(self.h_to_o_weights[i, :])\n",
    "            yf[i, 0] = self.feed_forward(yi, weights)\n",
    "        \n",
    "        print(\"y :\", yf)\n",
    "        \n",
    "        #max_vote = max(yf)\n",
    "        #number_prediction = yf.index(max_vote)\n",
    "        number_prediction = np.argmax(yf)\n",
    "        \n",
    "        return number_prediction\n",
    "        \n",
    "    \n",
    "\n",
    "def sig_fn(z):  #the Sigmoid Function(which will be the activation function that we take)\n",
    "    \n",
    "    y = 1/(1 + np.exp(-z))\n",
    "    \n",
    "    return(y)"
   ]
  },
  {
   "cell_type": "code",
   "execution_count": 99,
   "metadata": {},
   "outputs": [],
   "source": [
    "nn = Net() #making an object of network"
   ]
  },
  {
   "cell_type": "code",
   "execution_count": 100,
   "metadata": {},
   "outputs": [
    {
     "name": "stdout",
     "output_type": "stream",
     "text": [
      
     ]
    },
    {
     "name": "stdout",
     "output_type": "stream",
     "text": [
     
     ]
    },
    {
     "name": "stdout",
     "output_type": "stream",
     "text": [
    
     ]
    },
    {
     "name": "stdout",
     "output_type": "stream",
     "text": [
   
     ]
    },
    {
     "name": "stdout",
     "output_type": "stream",
     "text": [
 
     ]
    },
    {
     "name": "stdout",
     "output_type": "stream",
     "text": [
 
     ]
    },
    {
     "name": "stdout",
     "output_type": "stream",
     "text": [

     ]
    },
    {
     "name": "stdout",
     "output_type": "stream",
     "text": [

     ]
    },
   ],
   "source": [
    "#start training the network; stop manually when you're happy with the error\n",
    "nn.batch_update() #training the network"
   ]
  },
  {
   "cell_type": "markdown",
   "metadata": {},
   "source": [
    "I am able to get upto 96% accuracy (4% error)"
   ]
  },
  {
   "cell_type": "markdown",
   "metadata": {},
   "source": [
    "Testing our trained network with a random test sample.."
   ]
  },
  {
   "cell_type": "code",
   "execution_count": 101,
   "metadata": {},
   "outputs": [
    {
     "name": "stdout",
     "output_type": "stream",
     "text": [
      "y : [[0.88092007]\n",
      " [0.00211449]\n",
      " [0.433278  ]\n",
      " [0.08025702]\n",
      " [0.00406027]\n",
      " [0.11943474]\n",
      " [0.0053755 ]\n",
      " [0.01128393]\n",
      " [0.0515695 ]\n",
      " [0.00614327]]\n",
      "The image shows the number :  0\n"
     ]
    }
   ],
   "source": [
    "rand_samp = random.randint(0,10000) #'random' index number to pick up from the test set \n",
    "\n",
    "tst_input = np.row_stack(test_img[rand_samp])\n",
    "ans = nn.test_sample(tst_input)  #testing the network on one test sample\n",
    "print(\"The image shows the number : \", ans)"
   ]
  },
  {
   "cell_type": "markdown",
   "metadata": {},
   "source": [
    "And the actual image is..."
   ]
  },
  {
   "cell_type": "code",
   "execution_count": 102,
   "metadata": {},
   "outputs": [
    {
     "name": "stdout",
     "output_type": "stream",
     "text": [
      "\n",
      "............................\n",
      "............................\n",
      "............................\n",
      "............................\n",
      "..........@@................\n",
      "........@@@@@@..............\n",
      ".......@@....@@.............\n",
      ".......@......@@@@..........\n",
      "......@@........@@@.........\n",
      "......@...........@@........\n",
      "......@............@@.......\n",
      "......@............@@.......\n",
      "......@.............@@......\n",
      "......@..............@@.....\n",
      "......@..............@@.....\n",
      "......@..............@@.....\n",
      "......@@..............@@....\n",
      "......@@..............@@....\n",
      ".......@..............@.....\n",
      ".......@@@...........@@.....\n",
      "........@@@.........@@@.....\n",
      ".........@@@@.....@@@@......\n",
      "...........@@@@@@@@@........\n",
      "..............@@@...........\n",
      "............................\n",
      "............................\n",
      "............................\n",
      "............................\n"
     ]
    }
   ],
   "source": [
    "print(mndata.display(test_img[rand_samp]))"
   ]
  },
  {
   "cell_type": "code",
   "execution_count": null,
   "metadata": {},
   "outputs": [],
   "source": []
  }
 ],
 "metadata": {
  "kernelspec": {
   "display_name": "Python 3",
   "language": "python",
   "name": "python3"
  },
  "language_info": {
   "codemirror_mode": {
    "name": "ipython",
    "version": 3
   },
   "file_extension": ".py",
   "mimetype": "text/x-python",
   "name": "python",
   "nbconvert_exporter": "python",
   "pygments_lexer": "ipython3",
   "version": "3.6.5"
  }
 },
 "nbformat": 4,
 "nbformat_minor": 2
}
